{
 "cells": [
  {
   "cell_type": "code",
   "execution_count": 1,
   "metadata": {
    "collapsed": true
   },
   "outputs": [],
   "source": [
    "import numpy as np"
   ]
  },
  {
   "cell_type": "code",
   "execution_count": null,
   "metadata": {
    "collapsed": true
   },
   "outputs": [],
   "source": [
    "def make_plot(list_loss,list_x,list_methods,list_steps,limits):\n",
    "    colors = ['#42A5F5', '#FFB300', '#BA68C8','#7CB342']\n",
    "\n",
    "    s=0.2\n",
    "    x_ax = np.arange(limits[0],limits[1]+s, s)  \n",
    "    y_ax = np.arange(limits[0],limits[1]+s, s)  \n",
    "    x_ax,y_ax = np.meshgrid(x_ax,y_ax)\n",
    "    gradient_x=np.zeros((x_ax.shape[0],x_ax.shape[1]))\n",
    "    gradient_y=np.zeros((y_ax.shape[0],y_ax.shape[1]))\n",
    "    loss=np.zeros((x_ax.shape[0],x_ax.shape[1]))\n",
    "\n",
    "    for i in range(x_ax.shape[0]):\n",
    "        for j in range(x_ax.shape[1]):\n",
    "            grad=compute_gradients(np.array((x_ax[i,j],y_ax[i,j])))\n",
    "            gradient_x[i,j]=grad[0]\n",
    "            gradient_y[i,j]=grad[1]\n",
    "            loss[i,j]=compute_loss(np.array((x_ax[i,j],y_ax[i,j])))\n",
    "\n",
    "\n",
    "    #1. Plot Gradient Flow\n",
    "    plt.subplot(1, 2, 1)\n",
    "        \n",
    "    plt.streamplot(x_ax,y_ax,-gradient_x,-gradient_y, density=4, linewidth='0.3')\n",
    "    plt.gcf().set_size_inches((8,8))\n",
    "    plt.show()\n",
    "    plt.xlabel('x')\n",
    "    plt.ylabel('y')"
   ]
  },
  {
   "cell_type": "code",
   "execution_count": 3,
   "metadata": {
    "collapsed": true
   },
   "outputs": [],
   "source": [
    "def compute_loss(w):\n",
    "    loss=0.5*(w[0]**2+w[1]**-w[2]**2)\n",
    "    return loss\n",
    "\n",
    "def compute_gradient(w):\n",
    "    return np.array([w[0], w[1],-w[2]])\n"
   ]
  }
 ],
 "metadata": {
  "kernelspec": {
   "display_name": "Python 3",
   "language": "python",
   "name": "python3"
  },
  "language_info": {
   "codemirror_mode": {
    "name": "ipython",
    "version": 3
   },
   "file_extension": ".py",
   "mimetype": "text/x-python",
   "name": "python",
   "nbconvert_exporter": "python",
   "pygments_lexer": "ipython3",
   "version": "3.6.1"
  }
 },
 "nbformat": 4,
 "nbformat_minor": 2
}
